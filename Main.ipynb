{
 "metadata": {
  "language_info": {
   "codemirror_mode": {
    "name": "ipython",
    "version": 3
   },
   "file_extension": ".py",
   "mimetype": "text/x-python",
   "name": "python",
   "nbconvert_exporter": "python",
   "pygments_lexer": "ipython3",
   "version": 3
  },
  "orig_nbformat": 2
 },
 "nbformat": 4,
 "nbformat_minor": 2,
 "cells": [
  {
   "cell_type": "code",
   "execution_count": null,
   "metadata": {},
   "outputs": [],
   "source": [
    "# General libraries\n",
    "import pandas as pd\n",
    "import os\n",
    "import numpy as np\n",
    "import warnings\n",
    "import matplotlib.pyplot as plt\n",
    "warnings.filterwarnings(\"ignore\")\n",
    "\n",
    "# Machine Learning Libraries\n",
    "from sklearn.metrics import accuracy_score \n",
    "\n",
    "%matplotlib notebook"
   ]
  },
  {
   "cell_type": "code",
   "execution_count": null,
   "metadata": {},
   "outputs": [],
   "source": [
    "loc = 'C:/Users/Utente/Desktop/Project-lab-tem-Theta-/Data/'\n",
    "df = pd.read_csv(loc+ 'final_dataset.csv', index_col = [0])"
   ]
  },
  {
   "cell_type": "code",
   "execution_count": null,
   "metadata": {},
   "outputs": [],
   "source": [
    "odd_data = pd.DataFrame(None)\n",
    "odd_data = df[[\"MW\",\"HomeTeam\", \"AwayTeam\",\"Date\"]]\n",
    "odd_data"
   ]
  },
  {
   "cell_type": "code",
   "execution_count": null,
   "metadata": {},
   "outputs": [],
   "source": [
    "# Drop useless columns for prediction \n",
    "df = df.drop([\"MW\",\"HomeTeam\", \"AwayTeam\",\"Date\",\"HM1\", \"HM2\", \"HM3\", \"HM4\", \"HM5\", \"AM1\",\"AM2\", \"AM3\", \"AM4\", \"AM5\", \"HTFormPtsStr\", \"ATFormPtsStr\"], 1)\n",
    "df.head()"
   ]
  },
  {
   "cell_type": "code",
   "execution_count": null,
   "metadata": {},
   "outputs": [],
   "source": [
    "# Keep only for the last year \n",
    "odd_data = odd_data[5700:]\n",
    "\n",
    "odd_data"
   ]
  }
 ]
}