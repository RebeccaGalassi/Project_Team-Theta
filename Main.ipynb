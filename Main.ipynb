{
 "metadata": {
  "language_info": {
   "codemirror_mode": {
    "name": "ipython",
    "version": 3
   },
   "file_extension": ".py",
   "mimetype": "text/x-python",
   "name": "python",
   "nbconvert_exporter": "python",
   "pygments_lexer": "ipython3",
   "version": 3
  },
  "orig_nbformat": 2
 },
 "nbformat": 4,
 "nbformat_minor": 2,
 "cells": [
  {
   "cell_type": "code",
   "execution_count": null,
   "metadata": {},
   "outputs": [],
   "source": [
    "# General libraries\n",
    "import pandas as pd\n",
    "import os\n",
    "import numpy as np\n",
    "import warnings\n",
    "import matplotlib.pyplot as plt\n",
    "warnings.filterwarnings(\"ignore\")\n",
    "\n",
    "# Machine Learning Libraries\n",
    "from sklearn.metrics import accuracy_score \n",
    "\n",
    "%matplotlib notebook"
   ]
  },
  {
   "cell_type": "code",
   "execution_count": null,
   "metadata": {},
   "outputs": [],
   "source": [
    "loc = 'C:/Users/Utente/Desktop/Project-lab-tem-Theta-/Data/'\n",
    "df = pd.read_csv(loc+ 'final_dataset.csv', index_col = [0])"
   ]
  },
  {
   "cell_type": "code",
   "execution_count": null,
   "metadata": {},
   "outputs": [],
   "source": [
    "odd_data = pd.DataFrame(None)\n",
    "odd_data = df[[\"MW\",\"HomeTeam\", \"AwayTeam\",\"Date\"]]\n",
    "odd_data"
   ]
  },
  {
   "cell_type": "code",
   "execution_count": null,
   "metadata": {},
   "outputs": [],
   "source": [
    "# Drop useless columns for prediction \n",
    "df = df.drop([\"MW\",\"HomeTeam\", \"AwayTeam\",\"Date\",\"HM1\", \"HM2\", \"HM3\", \"HM4\", \"HM5\", \"AM1\",\"AM2\", \"AM3\", \"AM4\", \"AM5\", \"HTFormPtsStr\", \"ATFormPtsStr\"], 1)\n",
    "df.head()"
   ]
  },
  {
   "cell_type": "code",
   "execution_count": null,
   "metadata": {},
   "outputs": [],
   "source": [
    "# Keep only for the last year \n",
    "odd_data = odd_data[5700:]\n",
    "\n",
    "odd_data"
   ]
  },
  {
   "cell_type": "code",
   "execution_count": null,
   "metadata": {},
   "outputs": [],
   "source": [
    "## Testing set (2015-16 season)\n",
    "test_data = df[5700:]\n",
    "train_data = df[:5700]\n",
    "# Dropping the \"Result\" column\n",
    "X_test = test_data.drop('FTR',1)\n",
    "X_train = train_data.drop('FTR',1)\n",
    "# Keeping only the \"Result\" column\n",
    "y_test = test_data.FTR\n",
    "y_train = train_data.FTR\n"
   ]
  },
  {
   "cell_type": "code",
   "execution_count": null,
   "metadata": {},
   "outputs": [],
   "source": [
    "from xgboost import XGBClassifier\n",
    "XGB = XGBClassifier(random_state = 42)\n",
    "XGB.fit(X_train, y_train)\n",
    "\n",
    "# Predict\n",
    "y_pred_test = XGB.predict(X_test)\n",
    "\n",
    "# Predict the probabilities of each class\n",
    "y_pred_probability = XGB.predict_proba(X_test)\n",
    "\n",
    "# Compute Accuracy\n",
    "test_acc = accuracy_score(y_test, y_pred_test)\n",
    "\n",
    "# Adding to the dataframe the predicted output\n",
    "test_data['Prediction'] = y_pred_test\n",
    "print(\"Test Accuracy: \", test_acc)"
   ]
  }
 ]
}